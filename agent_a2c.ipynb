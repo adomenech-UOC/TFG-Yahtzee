{
 "cells": [
  {
   "cell_type": "code",
   "execution_count": null,
   "id": "819645f4",
   "metadata": {},
   "outputs": [],
   "source": [
    "import sys\n",
    "sys.path.append(\"./src\")"
   ]
  },
  {
   "cell_type": "code",
   "execution_count": null,
   "id": "458ce571",
   "metadata": {},
   "outputs": [],
   "source": [
    "from src.agents.Actor import Actor\n",
    "from src.agents.Critic import Critic\n",
    "import src.trainer as trainer\n",
    "import src.logger as logger\n",
    "import src.agents.utils as AgentUtils\n",
    "import time"
   ]
  },
  {
   "cell_type": "code",
   "execution_count": null,
   "id": "febd031d",
   "metadata": {},
   "outputs": [],
   "source": [
    "# Control random values\n",
    "import random\n",
    "import torch\n",
    "import numpy as np\n",
    "\n",
    "SEED = 0\n",
    "torch.manual_seed(SEED)\n",
    "random.seed(SEED)\n",
    "np.random.seed(SEED)"
   ]
  },
  {
   "cell_type": "code",
   "execution_count": null,
   "id": "91906b41",
   "metadata": {},
   "outputs": [],
   "source": [
    "params = {\n",
    "    \"n_plays\": 5000,   \n",
    "    \"lr_actor\": 0.0001,\n",
    "    \"lr_critic\": 0.0001,\n",
    "    \"save_agent\": True,\n",
    "    \"debug\": False,\n",
    "}\n",
    "\n",
    "start = time.time()\n",
    "\n",
    "agent, _, path, results = trainer.train_a2c_agent(Actor, Critic, **params)\n",
    "\n",
    "logger.print_time(start)"
   ]
  },
  {
   "cell_type": "code",
   "execution_count": null,
   "id": "fc833796",
   "metadata": {},
   "outputs": [],
   "source": [
    "logger.print_train_results(results, agent.name)"
   ]
  },
  {
   "cell_type": "code",
   "execution_count": null,
   "id": "1f98f3e9",
   "metadata": {},
   "outputs": [],
   "source": [
    "# Evaluate agent\n",
    "agent = AgentUtils.load_agent(path, Actor)\n",
    "\n",
    "n_plays = 100\n",
    "avg_score, median_score, scores = trainer.evaluate_model(agent, n_plays)\n",
    "    \n",
    "logger.print_eval_results(n_plays, avg_score, median_score)"
   ]
  }
 ],
 "metadata": {
  "kernelspec": {
   "display_name": "Python 3",
   "language": "python",
   "name": "python3"
  },
  "language_info": {
   "codemirror_mode": {
    "name": "ipython",
    "version": 3
   },
   "file_extension": ".py",
   "mimetype": "text/x-python",
   "name": "python",
   "nbconvert_exporter": "python",
   "pygments_lexer": "ipython3",
   "version": "3.9.5"
  }
 },
 "nbformat": 4,
 "nbformat_minor": 5
}
